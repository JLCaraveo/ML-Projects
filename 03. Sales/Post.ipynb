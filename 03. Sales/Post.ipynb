{
 "cells": [
  {
   "cell_type": "markdown",
   "id": "b8348408",
   "metadata": {},
   "source": [
    "For companies to become competitive and increase their growth, they need to take advantage of what Artificial Intelligence and Machine Learning can bring to develop predictive models based on forecasting sales in the future.\n",
    "\n",
    "Predictive models attempt to forecast these sales based on historical data, while taking into account the effects of seasonality, demand, holidays, promotions, and competition.\n",
    "\n",
    "For this case study, the company requesting to create a prediction model, it has provided data from the sales department of 1,115 stores.\n",
    "\n",
    "Sales related dataset:\n",
    "\n",
    "* Id: transaction ID (combination of store and date)\n",
    "* Store: unique identifier of the store\n",
    "* Sales: daily sales, this is the target variable\n",
    "* Customers: number of customers on a given day\n",
    "* Open: Boolean to indicate if the store was open or closed (0 = closed, 1 = open)\n",
    "* Promo: Describes if the store had any type of promotion that day or not\n",
    "* StateHoliday: indicates if the day was a holiday or not (a = public holidays, b = Easter holidays, c = Christmas, 0 = It was not a holiday)\n",
    "* SchoolHoliday - Indicates whether (Store, Date) is affected by public school closures\n",
    "\n",
    "Dataset related to stores:\n",
    "\n",
    "* StoreType: category indicating the type of store (a, b, c, d)\n",
    "* Assortment: a = basic, b = extra, c = extended\n",
    "* CompetitionDistance (in meters): distance to the nearest competition store\n",
    "* CompetitionOpenSince [Month/Year]: date the competition opened\n",
    "* Promo2: Promo2 is a continuous and consecutive promotion in some stores (0 = the store does not participate, 1 = the store participates)\n",
    "* Promo2Since [Year/Week]: date on which the store starts participating in Promo2\n",
    "* PromoInterval: describes the consecutive intervals where Promo2 begins, indicating the months in which it begins. p.e. \"Feb,May,Aug,Nov\" means that each new round of promotion starts in February, May, August, November of any year of that store\n",
    "\n",
    "Original data source: https://www.kaggle.com/c/rossmann-store-sales/data"
   ]
  },
  {
   "cell_type": "markdown",
   "id": "dc92bbbb",
   "metadata": {},
   "source": [
    "We will work with this data in order to figure out and predict the amount of sales in the future, the company wants to take advantage of the Machine Learning to make some decisitions about its stores.\n",
    "\n",
    "They want to know the behavior that the stores have had throughout the year and look for trends in them, they want to be prepared to react to any change in the market.\n",
    "\n",
    "The development of the project carried out as follows:\n",
    "\n",
    "* It began with a quick analysis of the data, beginning with knowing some basic statistics, as well as the types of variables with which it is working.\n",
    "* Data cleaning is important to avoid bias and possible erroneous analysis of the data. To avoid this, we worked with null data.\n",
    "* An exploratory analysis of data in depth to find trends in sales is so important, for this, we will break down the data set to verify how they behave with respect to the year, the month and the week.\n",
    "* We analyze the most relevant variables such as the number of clients, the sales that have been reported, how promotions affect in the amount sold, among others.\n",
    "* Once the data has been analyzed and understood, the model is trained. To do this, in this case study we chose to use the Facebook Prophet library that helps predict time series. We made two models, one general, taking into account the data without specifying the vacation days, and another specifying these days, which can be important when predicting.\n",
    "\n",
    "If you want to know what we found on the analysis, click on download PDF file or go directly to the repository, where in the folder Sales you will find the correspond notebook."
   ]
  }
 ],
 "metadata": {
  "kernelspec": {
   "display_name": "Python 3 (ipykernel)",
   "language": "python",
   "name": "python3"
  },
  "language_info": {
   "codemirror_mode": {
    "name": "ipython",
    "version": 3
   },
   "file_extension": ".py",
   "mimetype": "text/x-python",
   "name": "python",
   "nbconvert_exporter": "python",
   "pygments_lexer": "ipython3",
   "version": "3.7.12"
  }
 },
 "nbformat": 4,
 "nbformat_minor": 5
}
